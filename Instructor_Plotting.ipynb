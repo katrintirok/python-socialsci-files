{
 "cells": [
  {
   "cell_type": "markdown",
   "metadata": {},
   "source": [
    "# Do some nice plots with pandas"
   ]
  },
  {
   "cell_type": "code",
   "execution_count": 1,
   "metadata": {},
   "outputs": [],
   "source": [
    "import pandas as pd"
   ]
  },
  {
   "cell_type": "code",
   "execution_count": 3,
   "metadata": {},
   "outputs": [],
   "source": [
    "# to make plots to appear in the notebook 'inline'\n",
    "%matplotlib inline"
   ]
  },
  {
   "cell_type": "code",
   "execution_count": 4,
   "metadata": {},
   "outputs": [],
   "source": [
    "safi = pd.read_csv(\"data/SAFI_full_shortname.csv\")"
   ]
  },
  {
   "cell_type": "code",
   "execution_count": 5,
   "metadata": {},
   "outputs": [
    {
     "data": {
      "text/html": [
       "<div>\n",
       "<style scoped>\n",
       "    .dataframe tbody tr th:only-of-type {\n",
       "        vertical-align: middle;\n",
       "    }\n",
       "\n",
       "    .dataframe tbody tr th {\n",
       "        vertical-align: top;\n",
       "    }\n",
       "\n",
       "    .dataframe thead th {\n",
       "        text-align: right;\n",
       "    }\n",
       "</style>\n",
       "<table border=\"1\" class=\"dataframe\">\n",
       "  <thead>\n",
       "    <tr style=\"text-align: right;\">\n",
       "      <th></th>\n",
       "      <th>key_id</th>\n",
       "      <th>interview_date</th>\n",
       "      <th>quest_no</th>\n",
       "      <th>start</th>\n",
       "      <th>end</th>\n",
       "      <th>province</th>\n",
       "      <th>district</th>\n",
       "      <th>ward</th>\n",
       "      <th>village</th>\n",
       "      <th>years_farm</th>\n",
       "      <th>...</th>\n",
       "      <th>items_owned</th>\n",
       "      <th>items_owned_other</th>\n",
       "      <th>no_meals</th>\n",
       "      <th>months_lack_food</th>\n",
       "      <th>no_food_mitigation</th>\n",
       "      <th>gps_Latitude</th>\n",
       "      <th>gps_Longitude</th>\n",
       "      <th>gps_Altitude</th>\n",
       "      <th>gps_Accuracy</th>\n",
       "      <th>instanceID</th>\n",
       "    </tr>\n",
       "  </thead>\n",
       "  <tbody>\n",
       "    <tr>\n",
       "      <th>0</th>\n",
       "      <td>1</td>\n",
       "      <td>17 November 2016</td>\n",
       "      <td>1</td>\n",
       "      <td>2017-03-23T09:49:57.000Z</td>\n",
       "      <td>2017-04-02T17:29:08.000Z</td>\n",
       "      <td>Manica</td>\n",
       "      <td>Manica</td>\n",
       "      <td>Bandula</td>\n",
       "      <td>God</td>\n",
       "      <td>11</td>\n",
       "      <td>...</td>\n",
       "      <td>['bicycle' ;  'television' ;  'solar_panel' ; ...</td>\n",
       "      <td>NaN</td>\n",
       "      <td>2</td>\n",
       "      <td>['Jan']</td>\n",
       "      <td>['na' ;  'rely_less_food' ;  'reduce_meals' ; ...</td>\n",
       "      <td>-19.112259</td>\n",
       "      <td>33.483456</td>\n",
       "      <td>698</td>\n",
       "      <td>14.0</td>\n",
       "      <td>uuid:ec241f2c-0609-46ed-b5e8-fe575f6cefef</td>\n",
       "    </tr>\n",
       "    <tr>\n",
       "      <th>1</th>\n",
       "      <td>2</td>\n",
       "      <td>17 November 2016</td>\n",
       "      <td>1</td>\n",
       "      <td>2017-04-02T09:48:16.000Z</td>\n",
       "      <td>2017-04-02T17:26:19.000Z</td>\n",
       "      <td>Manica</td>\n",
       "      <td>Manica</td>\n",
       "      <td>Bandula</td>\n",
       "      <td>God</td>\n",
       "      <td>2</td>\n",
       "      <td>...</td>\n",
       "      <td>['cow_cart' ;  'bicycle' ;  'radio' ;  'cow_pl...</td>\n",
       "      <td>NaN</td>\n",
       "      <td>2</td>\n",
       "      <td>['Jan' ;  'Sept' ;  'Oct' ;  'Nov' ;  'Dec']</td>\n",
       "      <td>['na' ;  'reduce_meals' ;  'restrict_adults' ;...</td>\n",
       "      <td>-19.112477</td>\n",
       "      <td>33.483416</td>\n",
       "      <td>690</td>\n",
       "      <td>19.0</td>\n",
       "      <td>uuid:099de9c9-3e5e-427b-8452-26250e840d6e</td>\n",
       "    </tr>\n",
       "    <tr>\n",
       "      <th>2</th>\n",
       "      <td>3</td>\n",
       "      <td>17 November 2016</td>\n",
       "      <td>3</td>\n",
       "      <td>2017-04-02T14:35:26.000Z</td>\n",
       "      <td>2017-04-02T17:26:53.000Z</td>\n",
       "      <td>Manica</td>\n",
       "      <td>Manica</td>\n",
       "      <td>Bandula</td>\n",
       "      <td>God</td>\n",
       "      <td>40</td>\n",
       "      <td>...</td>\n",
       "      <td>['solar_torch']</td>\n",
       "      <td>NaN</td>\n",
       "      <td>2</td>\n",
       "      <td>['Jan' ;  'Feb' ;  'Mar' ;  'Oct' ;  'Nov' ;  ...</td>\n",
       "      <td>['na' ;  'restrict_adults' ;  'lab_ex_food']</td>\n",
       "      <td>-19.112108</td>\n",
       "      <td>33.483450</td>\n",
       "      <td>674</td>\n",
       "      <td>13.0</td>\n",
       "      <td>uuid:193d7daf-9582-409b-bf09-027dd36f9007</td>\n",
       "    </tr>\n",
       "    <tr>\n",
       "      <th>3</th>\n",
       "      <td>4</td>\n",
       "      <td>17 November 2016</td>\n",
       "      <td>4</td>\n",
       "      <td>2017-04-02T14:55:18.000Z</td>\n",
       "      <td>2017-04-02T17:27:16.000Z</td>\n",
       "      <td>Manica</td>\n",
       "      <td>Manica</td>\n",
       "      <td>Bandula</td>\n",
       "      <td>God</td>\n",
       "      <td>6</td>\n",
       "      <td>...</td>\n",
       "      <td>['bicycle' ;  'radio' ;  'cow_plough' ;  'sola...</td>\n",
       "      <td>NaN</td>\n",
       "      <td>2</td>\n",
       "      <td>['Sept' ;  'Oct' ;  'Nov' ;  'Dec']</td>\n",
       "      <td>['na' ;  'reduce_meals' ;  'restrict_adults' ;...</td>\n",
       "      <td>-19.112229</td>\n",
       "      <td>33.483424</td>\n",
       "      <td>679</td>\n",
       "      <td>5.0</td>\n",
       "      <td>uuid:148d1105-778a-4755-aa71-281eadd4a973</td>\n",
       "    </tr>\n",
       "    <tr>\n",
       "      <th>4</th>\n",
       "      <td>5</td>\n",
       "      <td>17 November 2016</td>\n",
       "      <td>5</td>\n",
       "      <td>2017-04-02T15:10:35.000Z</td>\n",
       "      <td>2017-04-02T17:27:35.000Z</td>\n",
       "      <td>Manica</td>\n",
       "      <td>Manica</td>\n",
       "      <td>Bandula</td>\n",
       "      <td>God</td>\n",
       "      <td>18</td>\n",
       "      <td>...</td>\n",
       "      <td>['motorcyle' ;  'radio' ;  'cow_plough' ;  'mo...</td>\n",
       "      <td>NaN</td>\n",
       "      <td>2</td>\n",
       "      <td>['Aug' ;  'Sept' ;  'Oct' ;  'Nov']</td>\n",
       "      <td>['na' ;  'go_forest' ;  'migrate']</td>\n",
       "      <td>-19.112217</td>\n",
       "      <td>33.483425</td>\n",
       "      <td>689</td>\n",
       "      <td>10.0</td>\n",
       "      <td>uuid:2c867811-9696-4966-9866-f35c3e97d02d</td>\n",
       "    </tr>\n",
       "  </tbody>\n",
       "</table>\n",
       "<p>5 rows × 65 columns</p>\n",
       "</div>"
      ],
      "text/plain": [
       "   key_id    interview_date  quest_no                     start  \\\n",
       "0       1  17 November 2016         1  2017-03-23T09:49:57.000Z   \n",
       "1       2  17 November 2016         1  2017-04-02T09:48:16.000Z   \n",
       "2       3  17 November 2016         3  2017-04-02T14:35:26.000Z   \n",
       "3       4  17 November 2016         4  2017-04-02T14:55:18.000Z   \n",
       "4       5  17 November 2016         5  2017-04-02T15:10:35.000Z   \n",
       "\n",
       "                        end province district     ward village  years_farm  \\\n",
       "0  2017-04-02T17:29:08.000Z   Manica   Manica  Bandula     God          11   \n",
       "1  2017-04-02T17:26:19.000Z   Manica   Manica  Bandula     God           2   \n",
       "2  2017-04-02T17:26:53.000Z   Manica   Manica  Bandula     God          40   \n",
       "3  2017-04-02T17:27:16.000Z   Manica   Manica  Bandula     God           6   \n",
       "4  2017-04-02T17:27:35.000Z   Manica   Manica  Bandula     God          18   \n",
       "\n",
       "                     ...                      \\\n",
       "0                    ...                       \n",
       "1                    ...                       \n",
       "2                    ...                       \n",
       "3                    ...                       \n",
       "4                    ...                       \n",
       "\n",
       "                                         items_owned  items_owned_other  \\\n",
       "0  ['bicycle' ;  'television' ;  'solar_panel' ; ...                NaN   \n",
       "1  ['cow_cart' ;  'bicycle' ;  'radio' ;  'cow_pl...                NaN   \n",
       "2                                    ['solar_torch']                NaN   \n",
       "3  ['bicycle' ;  'radio' ;  'cow_plough' ;  'sola...                NaN   \n",
       "4  ['motorcyle' ;  'radio' ;  'cow_plough' ;  'mo...                NaN   \n",
       "\n",
       "   no_meals                                   months_lack_food  \\\n",
       "0         2                                            ['Jan']   \n",
       "1         2       ['Jan' ;  'Sept' ;  'Oct' ;  'Nov' ;  'Dec']   \n",
       "2         2  ['Jan' ;  'Feb' ;  'Mar' ;  'Oct' ;  'Nov' ;  ...   \n",
       "3         2                ['Sept' ;  'Oct' ;  'Nov' ;  'Dec']   \n",
       "4         2                ['Aug' ;  'Sept' ;  'Oct' ;  'Nov']   \n",
       "\n",
       "                                  no_food_mitigation  gps_Latitude  \\\n",
       "0  ['na' ;  'rely_less_food' ;  'reduce_meals' ; ...    -19.112259   \n",
       "1  ['na' ;  'reduce_meals' ;  'restrict_adults' ;...    -19.112477   \n",
       "2       ['na' ;  'restrict_adults' ;  'lab_ex_food']    -19.112108   \n",
       "3  ['na' ;  'reduce_meals' ;  'restrict_adults' ;...    -19.112229   \n",
       "4                 ['na' ;  'go_forest' ;  'migrate']    -19.112217   \n",
       "\n",
       "  gps_Longitude gps_Altitude gps_Accuracy  \\\n",
       "0     33.483456          698         14.0   \n",
       "1     33.483416          690         19.0   \n",
       "2     33.483450          674         13.0   \n",
       "3     33.483424          679          5.0   \n",
       "4     33.483425          689         10.0   \n",
       "\n",
       "                                  instanceID  \n",
       "0  uuid:ec241f2c-0609-46ed-b5e8-fe575f6cefef  \n",
       "1  uuid:099de9c9-3e5e-427b-8452-26250e840d6e  \n",
       "2  uuid:193d7daf-9582-409b-bf09-027dd36f9007  \n",
       "3  uuid:148d1105-778a-4755-aa71-281eadd4a973  \n",
       "4  uuid:2c867811-9696-4966-9866-f35c3e97d02d  \n",
       "\n",
       "[5 rows x 65 columns]"
      ]
     },
     "execution_count": 5,
     "metadata": {},
     "output_type": "execute_result"
    }
   ],
   "source": [
    "safi.head()"
   ]
  },
  {
   "cell_type": "markdown",
   "metadata": {},
   "source": [
    "# Plot a histogram"
   ]
  },
  {
   "cell_type": "code",
   "execution_count": 6,
   "metadata": {},
   "outputs": [
    {
     "data": {
      "text/plain": [
       "array([[<matplotlib.axes._subplots.AxesSubplot object at 0x1210876d8>]],\n",
       "      dtype=object)"
      ]
     },
     "execution_count": 6,
     "metadata": {},
     "output_type": "execute_result"
    },
    {
     "data": {
      "image/png": "[encoded data removed]",
      "text/plain": [
       "<Figure size 432x288 with 1 Axes>"
      ]
     },
     "metadata": {
      "needs_background": "light"
     },
     "output_type": "display_data"
    }
   ],
   "source": [
    "safi.hist(column=\"years_liv\")"
   ]
  },
  {
   "cell_type": "code",
   "execution_count": 7,
   "metadata": {},
   "outputs": [
    {
     "data": {
      "text/plain": [
       "array([[<matplotlib.axes._subplots.AxesSubplot object at 0x12160cd30>]],\n",
       "      dtype=object)"
      ]
     },
     "execution_count": 7,
     "metadata": {},
     "output_type": "execute_result"
    },
    {
     "data": {
      "image/png": "[encoded data removed]",
      "text/plain": [
       "<Figure size 432x288 with 1 Axes>"
      ]
     },
     "metadata": {
      "needs_background": "light"
     },
     "output_type": "display_data"
    }
   ],
   "source": [
    "safi.hist(column=\"years_liv\", bins=20)"
   ]
  },
  {
   "cell_type": "code",
   "execution_count": 6,
   "metadata": {},
   "outputs": [
    {
     "data": {
      "text/plain": [
       "array([<matplotlib.axes._subplots.AxesSubplot object at 0x11f668400>,\n",
       "       <matplotlib.axes._subplots.AxesSubplot object at 0x11fb4bfd0>,\n",
       "       <matplotlib.axes._subplots.AxesSubplot object at 0x11fb7b588>],\n",
       "      dtype=object)"
      ]
     },
     "execution_count": 6,
     "metadata": {},
     "output_type": "execute_result"
    },
    {
     "data": {
      "image/png": "[encoded data removed]",
      "text/plain": [
       "<Figure size 864x216 with 3 Axes>"
      ]
     },
     "metadata": {
      "needs_background": "light"
     },
     "output_type": "display_data"
    }
   ],
   "source": [
    "# plot one histogram per village, give it a layout of 1 row and 3 columns (i.e. all 3 plots next to each other),\n",
    "# and set the size of the figure \n",
    "# you can change the numbers to see what happens\n",
    "safi.hist(column='years_liv', by=\"village\", layout = (1,3),\n",
    "         figsize=(12,3))"
   ]
  },
  {
   "cell_type": "code",
   "execution_count": 7,
   "metadata": {},
   "outputs": [
    {
     "data": {
      "text/plain": [
       "<matplotlib.axes._subplots.AxesSubplot at 0x11fc827b8>"
      ]
     },
     "execution_count": 7,
     "metadata": {},
     "output_type": "execute_result"
    },
    {
     "data": {
      "image/png": "[encoded data removed]",
      "text/plain": [
       "<Figure size 432x288 with 2 Axes>"
      ]
     },
     "metadata": {
      "needs_background": "light"
     },
     "output_type": "display_data"
    }
   ],
   "source": [
    "# scatter plot\n",
    "# plot the gps locations and represent the altitude with different colors\n",
    "safi.plot.scatter(x=\"gps_Longitude\", y=\"gps_Latitude\", c=\"gps_Altitude\")"
   ]
  },
  {
   "cell_type": "code",
   "execution_count": 10,
   "metadata": {},
   "outputs": [
    {
     "data": {
      "text/plain": [
       "<matplotlib.axes._subplots.AxesSubplot at 0x11fecacc0>"
      ]
     },
     "execution_count": 10,
     "metadata": {},
     "output_type": "execute_result"
    },
    {
     "data": {
      "image/png": "[encoded data removed]",
      "text/plain": [
       "<Figure size 432x288 with 2 Axes>"
      ]
     },
     "metadata": {
      "needs_background": "light"
     },
     "output_type": "display_data"
    }
   ],
   "source": [
    "# change the colormap (the colors of altitude) to 'viridis' (you can also try our 'jet' or 'Reds')\n",
    "# read more about colormaps https://matplotlib.org/users/colormaps.html\n",
    "safi.plot.scatter(x='gps_Longitude', y='gps_Latitude', c='gps_Altitude', colormap='viridis')"
   ]
  },
  {
   "cell_type": "markdown",
   "metadata": {},
   "source": [
    "# %load code/plots.py\n",
    "1. Make a scatter plot of 'years_farm' vs 'years_liv' and color the points by 'buildings_in_compound'"
   ]
  },
  {
   "cell_type": "code",
   "execution_count": 19,
   "metadata": {},
   "outputs": [
    {
     "data": {
      "text/plain": [
       "<matplotlib.axes._subplots.AxesSubplot at 0x11f368f98>"
      ]
     },
     "execution_count": 19,
     "metadata": {},
     "output_type": "execute_result"
    },
    {
     "data": {
      "image/png": "[encoded data removed]",
      "text/plain": [
       "<Figure size 432x288 with 2 Axes>"
      ]
     },
     "metadata": {
      "needs_background": "light"
     },
     "output_type": "display_data"
    }
   ],
   "source": [
    "safi.plot.scatter(x = 'years_liv', y = 'years_farm', c = 'buildings_in_compound', colormap = 'Reds')"
   ]
  },
  {
   "cell_type": "markdown",
   "metadata": {},
   "source": [
    "2. Make a bar plot of the mean number of rooms per wall type\n",
    "    - note!: first we need to calculate the mean value for rooms per wall type (groupby)"
   ]
  },
  {
   "cell_type": "code",
   "execution_count": 18,
   "metadata": {},
   "outputs": [
    {
     "data": {
      "text/plain": [
       "respondent_wall_type\n",
       "burntbricks    2.104478\n",
       "cement         3.000000\n",
       "muddaub        1.260870\n",
       "sunbricks      1.529412\n",
       "Name: rooms, dtype: float64"
      ]
     },
     "execution_count": 18,
     "metadata": {},
     "output_type": "execute_result"
    }
   ],
   "source": [
    "# means of rooms per walltype\n",
    "rooms_mean = safi.groupby('respondent_wall_type').mean()['rooms']\n",
    "rooms_mean.head()"
   ]
  },
  {
   "cell_type": "code",
   "execution_count": 19,
   "metadata": {},
   "outputs": [
    {
     "data": {
      "text/plain": [
       "<matplotlib.axes._subplots.AxesSubplot at 0x1229ce908>"
      ]
     },
     "execution_count": 19,
     "metadata": {},
     "output_type": "execute_result"
    },
    {
     "data": {
      "image/png": "[encoded data removed]",
      "text/plain": [
       "<Figure size 432x288 with 1 Axes>"
      ]
     },
     "metadata": {
      "needs_background": "light"
     },
     "output_type": "display_data"
    }
   ],
   "source": [
    "# barplot?\n",
    "rooms_mean.plot.bar()"
   ]
  },
  {
   "cell_type": "markdown",
   "metadata": {},
   "source": [
    "3. Try plotting mean rooms per wall and roof type pairs"
   ]
  },
  {
   "cell_type": "code",
   "execution_count": 33,
   "metadata": {},
   "outputs": [
    {
     "data": {
      "text/plain": [
       "respondent_wall_type  respondent_roof_type\n",
       "burntbricks           grass                   1.681818\n",
       "                      mabatipitched           2.166667\n",
       "                      mabatisloping           2.333333\n",
       "cement                mabatisloping           3.000000\n",
       "muddaub               grass                   1.214286\n",
       "Name: rooms, dtype: float64"
      ]
     },
     "execution_count": 33,
     "metadata": {},
     "output_type": "execute_result"
    }
   ],
   "source": [
    "# mean of rooms per walltype and rooftype\n",
    "rooms_means2 = safi.groupby(['respondent_wall_type', 'respondent_roof_type']).mean()['rooms']\n",
    "rooms_means2.head()"
   ]
  },
  {
   "cell_type": "code",
   "execution_count": 34,
   "metadata": {},
   "outputs": [
    {
     "data": {
      "text/plain": [
       "<matplotlib.axes._subplots.AxesSubplot at 0x127216710>"
      ]
     },
     "execution_count": 34,
     "metadata": {},
     "output_type": "execute_result"
    },
    {
     "data": {
      "image/png": "[encoded data removed]",
      "text/plain": [
       "<Figure size 432x288 with 1 Axes>"
      ]
     },
     "metadata": {
      "needs_background": "light"
     },
     "output_type": "display_data"
    }
   ],
   "source": [
    "rooms_means2.plot.bar()"
   ]
  }
 ],
 "metadata": {
  "kernelspec": {
   "display_name": "Python 3",
   "language": "python",
   "name": "python3"
  },
  "language_info": {
   "codemirror_mode": {
    "name": "ipython",
    "version": 3
   },
   "file_extension": ".py",
   "mimetype": "text/x-python",
   "name": "python",
   "nbconvert_exporter": "python",
   "pygments_lexer": "ipython3",
   "version": "3.6.7"
  }
 },
 "nbformat": 4,
 "nbformat_minor": 2
}
